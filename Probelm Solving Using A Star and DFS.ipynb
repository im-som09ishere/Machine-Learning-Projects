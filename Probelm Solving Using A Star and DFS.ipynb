{
  "cells": [
    {
      "cell_type": "markdown",
      "metadata": {
        "id": "MzZ4dJQYF7sH"
      },
      "source": []
    },
    {
      "cell_type": "markdown",
      "metadata": {
        "id": "Fxb1aE9zF7sK"
      },
      "source": [
        "## Problem solving by Uninformed (DFS) & Informed Search (A*)\n",
        "\n",
        "\n"
      ]
    },
    {
      "cell_type": "markdown",
      "metadata": {
        "id": "h35jIBbCF7sK"
      },
      "source": []
    },
    {
      "cell_type": "markdown",
      "metadata": {
        "id": "pt5ygv_zF7sL"
      },
      "source": [
        "Things to follow\n",
        "1.\tUse appropriate data structures to represent the graph and the path using python libraries\n",
        "2.\tProvide proper documentation\n",
        "3.\tFind the path and print it"
      ]
    },
    {
      "cell_type": "markdown",
      "metadata": {
        "id": "wZfop5ElF7sL"
      },
      "source": [
        "Coding begins here"
      ]
    },
    {
      "cell_type": "markdown",
      "metadata": {
        "id": "IL0QDMy3F7sL"
      },
      "source": [
        "### 1.\tDefine the environment in the following block"
      ]
    },
    {
      "cell_type": "markdown",
      "metadata": {
        "id": "RYwJPNLIF7sM"
      },
      "source": [
        "<b>Performance Measure:</b> Minimize the number of connections while maintaining network connectivity, reduce the overall transmission cost between nodes.\n",
        "\n",
        "<b>Environment:</b> The network of servers represented as a graph where nodes are servers and edges are communication lines with associated transmission costs.\n",
        "\n",
        "<b>Actuators:</b> Select and prune the edges (communication lines) or an equivalent reduced network.\n",
        "\n",
        "<b>Sensor:</b> Information about the graph, including nodes, edges, and transmission costs."
      ]
    },
    {
      "cell_type": "markdown",
      "metadata": {
        "id": "XJ3cHp1IF7sM"
      },
      "source": [
        "Design the agent as PSA Agent(Problem Solving Agent)\n",
        "\n",
        "Clear Initial data structures to define the graph and variable declarations is expected\n",
        "\n",
        "IMPORTANT: Write distinct code block as below"
      ]
    },
    {
      "cell_type": "code",
      "execution_count": 1,
      "metadata": {
        "id": "osp61RsLF7sN"
      },
      "outputs": [],
      "source": [
        "#Code Block : Set Initial State (Must handle dynamic inputs)\n",
        "\n",
        "#Network\n",
        "GraphNodes_DFS = {\n",
        "    'A': ['B', 'C', 'D', 'G'],\n",
        "    'B': ['A', 'D'],\n",
        "    'C': ['A', 'G'],\n",
        "    'D': ['A', 'B', 'E', 'F', 'H'],\n",
        "    'E': ['D',],\n",
        "    'F': ['D', 'H'],\n",
        "    'G': ['A', 'C', 'H'],\n",
        "    'H': ['D', 'F', 'G']\n",
        "}"
      ]
    },
    {
      "cell_type": "code",
      "execution_count": 2,
      "metadata": {
        "id": "XODwoWZ0F7sO"
      },
      "outputs": [],
      "source": [
        "#Code Block : Set the matrix for transition & cost (as relevant for the given problem)\n",
        "\n",
        "#Network structure with path cost\n",
        "graph = {\n",
        "    'A': {'B': 15, 'C': 10, 'D': 17, 'G': 5},\n",
        "    'B': {'A': 15, 'D': 12},\n",
        "    'C': {'A': 10, 'G': 7},\n",
        "    'D': {'A': 17, 'B': 12, 'E': 2, 'F': 10, 'H': 4},\n",
        "    'E': {'D': 2},\n",
        "    'F': {'D': 10, 'H': 11},\n",
        "    'G': {'A': 5, 'C': 7, 'H': 25},\n",
        "    'H': {'D': 4, 'F': 11, 'G': 25}\n",
        "}"
      ]
    },
    {
      "cell_type": "code",
      "execution_count": 3,
      "metadata": {
        "id": "ro24Gaj7F7sO"
      },
      "outputs": [],
      "source": [
        "#Code Block : Write function to design the Transition Model/Successor function. Ideally this would be called while search algorithms are implemented\n",
        "\n",
        "#Network structure with path cost\n",
        "graph = {\n",
        "    'A': {'B': 15, 'C': 10, 'D': 17, 'G': 5},\n",
        "    'B': {'A': 15, 'D': 12},\n",
        "    'C': {'A': 10, 'G': 7},\n",
        "    'D': {'A': 17, 'B': 12, 'E': 2, 'F': 10, 'H': 4},\n",
        "    'E': {'D': 2},\n",
        "    'F': {'D': 10, 'H': 11},\n",
        "    'G': {'A': 5, 'C': 7, 'H': 25},\n",
        "    'H': {'D': 4, 'F': 11, 'G': 25}\n",
        "}\n",
        "\n",
        "# Heuristic function for A*\n",
        "def heuristic(node, end_node):\n",
        "    if end_node == 'A':\n",
        "        H_dist = {\n",
        "            'A': 0,\n",
        "            'B': 47.667,\n",
        "            'C': 48,\n",
        "            'D': 39.667,\n",
        "            'E': 41.667,\n",
        "            'F': 42.667,\n",
        "            'G': 43.333,\n",
        "            'H': 35\n",
        "        }\n",
        "    if end_node == 'B':\n",
        "        H_dist = {\n",
        "            'A': 47.667,\n",
        "            'B': 0,\n",
        "            'C': 52.7,\n",
        "            'D': 49.667,\n",
        "            'E': 51.667,\n",
        "            'F': 58.5,\n",
        "            'G': 46.25,\n",
        "            'H': 46.25\n",
        "        }\n",
        "    if end_node == 'C':\n",
        "        H_dist = {\n",
        "            'A': 48,\n",
        "            'B': 52.7,\n",
        "            'C': 0,\n",
        "            'D': 40.75,\n",
        "            'E': 42.75,\n",
        "            'F': 46.5,\n",
        "            'G': 50,\n",
        "            'H': 43.6\n",
        "        }\n",
        "    if end_node == 'D':\n",
        "        H_dist = {\n",
        "            'A': 39.667,\n",
        "            'B': 49.667,\n",
        "            'C': 40.75,\n",
        "            'D': 0,\n",
        "            'E': 2,\n",
        "            'F': 50.167,\n",
        "            'G': 34.5,\n",
        "            'H': 42.833\n",
        "        }\n",
        "    if end_node == 'E':\n",
        "        H_dist = {\n",
        "            'A': 41.667,\n",
        "            'B': 51.667,\n",
        "            'C': 42.75,\n",
        "            'D': 2,\n",
        "            'E': 0,\n",
        "            'F': 52.167,\n",
        "            'G': 36.5,\n",
        "            'H': 44.833\n",
        "        }\n",
        "    if end_node == 'F':\n",
        "        H_dist = {\n",
        "            'A': 42.6,\n",
        "            'B': 58.5,\n",
        "            'C': 46.5,\n",
        "            'D': 50.167,\n",
        "            'E': 52.167,\n",
        "            'F': 0,\n",
        "            'G': 43.9,\n",
        "            'H': 49.5\n",
        "        }\n",
        "    if end_node == 'G':\n",
        "        H_dist = {\n",
        "            'A': 43.333,\n",
        "            'B': 46.25,\n",
        "            'C': 50,\n",
        "            'D': 34.5,\n",
        "            'E': 36.5,\n",
        "            'F': 43.7,\n",
        "            'G': 0,\n",
        "            'H': 43.222\n",
        "        }\n",
        "    if end_node == 'H':\n",
        "        H_dist = {\n",
        "            'A': 35,\n",
        "            'B': 46.25,\n",
        "            'C': 43.6,\n",
        "            'D': 42.833,\n",
        "            'E': 44.833,\n",
        "            'F': 49.5,\n",
        "            'G': 43.222,\n",
        "            'H': 0\n",
        "        }\n",
        "\n",
        "    return H_dist[node]"
      ]
    },
    {
      "cell_type": "code",
      "execution_count": 4,
      "metadata": {
        "id": "HIVPhrRWF7sO"
      },
      "outputs": [],
      "source": [
        "#Code block : Write function to handle goal test (Must handle dynamic inputs). Ideally this would be called while search algorithms are implemented\n",
        "def isGoalState(testNode, endNode):\n",
        "    \"\"\"\n",
        "    Method to check for Goal state\n",
        "\n",
        "    Parameters:\n",
        "    >testNode: The node to be comapred with goal state\n",
        "    >endNode: The expected goal state\n",
        "\n",
        "    This method returns \"True\" if goal state is reached otherwise \"False\"\n",
        "    \"\"\"\n",
        "    return testNode == endNode"
      ]
    },
    {
      "cell_type": "markdown",
      "metadata": {
        "id": "Z4QwDeX5F7sO"
      },
      "source": [
        "### 2.\tDefinition of Algorithm 1 (DFS)"
      ]
    },
    {
      "cell_type": "code",
      "execution_count": 5,
      "metadata": {
        "id": "zD_EPCHWF7sO"
      },
      "outputs": [],
      "source": [
        "#Code Block : Function for algorithm 1 implementation\n",
        "def performDFSSearch(node):\n",
        "    \"\"\"\n",
        "    Method used by DFS for traversing the graph from a given node.\n",
        "\n",
        "    Parameters:\n",
        "    >node: The point in the graph from which exploration starts.\n",
        "\n",
        "    This method recursively navigates the graph to find the goal state and updates the identified path in 'currentPath'.\n",
        "    \"\"\"\n",
        "\n",
        "    if node in visitedNodes:\n",
        "        print(\" (Already Visited)\")\n",
        "        return False\n",
        "\n",
        "    # Counting the total number of nodes generated by DFS in the tree\n",
        "    global node_count\n",
        "    node_count = node_count + 1\n",
        "\n",
        "    visitedNodes.append(node)\n",
        "    dfsPath.append(node)\n",
        "\n",
        "    print('\\nCurrent Path: %-40s Visited: %-40s' %(dfsPath, visitedNodes))\n",
        "\n",
        "    if isGoalState(node, end):\n",
        "        found_path = dfsPath.copy()\n",
        "        return True\n",
        "\n",
        "    for next_node in GraphNodes_DFS.get(node, []):\n",
        "        print(\"Next Node:\", next_node, end=\"\")\n",
        "        if performDFSSearch(next_node):\n",
        "            return True\n",
        "\n",
        "    dfsPath.pop()\n",
        "    return False\n",
        "\n",
        "def searchDFS(start, end):\n",
        "    \"\"\"\n",
        "    DFS algorithm for finding the path from a selected start node to the goal node.\n",
        "\n",
        "    Parameters:\n",
        "    >start: The starting node.\n",
        "    >end: The destination node.\n",
        "\n",
        "    This method returns the path from the start node to the destination node.\n",
        "    \"\"\"\n",
        "\n",
        "    print('Start Node: ', start, ', End Node: ', end, end=\"\")\n",
        "    performDFSSearch(start)\n",
        "\n",
        "    return found_path\n"
      ]
    },
    {
      "cell_type": "markdown",
      "metadata": {
        "id": "KnbdDl6HF7sO"
      },
      "source": [
        "### 3.\tDefinition of Algorithm 2 (A*)"
      ]
    },
    {
      "cell_type": "code",
      "execution_count": 6,
      "metadata": {
        "id": "3HYh7-eJF7sP"
      },
      "outputs": [],
      "source": [
        "#Code Block : Function for algorithm 2 implementation\n",
        "from heapq import heappush, heappop\n",
        "\n",
        "def searchAStar(graph, start, goal, h):\n",
        "    \"\"\"\n",
        "    A* algorithm for finding the path in a graph from start node to goal node.\n",
        "\n",
        "    Parameters:\n",
        "    >graph: A dictionary where keys are nodes, and values are dictionaries of neighbors with edge costs.\n",
        "    >start: The starting node.\n",
        "    >goal: The goal node.\n",
        "    >h: A heuristic function that estimates the cost from a node to the goal.\n",
        "\n",
        "    This method will return the path and its cost.\n",
        "    \"\"\"\n",
        "\n",
        "    print('Start Node: ', start, ', End Node: ', goal)\n",
        "    open_list = []\n",
        "    closed_list = []\n",
        "\n",
        "    g = {node: float('inf') for node in graph}\n",
        "    g[start] = 0\n",
        "\n",
        "    f_total = {node: float('inf') for node in graph}\n",
        "    f_total[start] = h(start, goal)\n",
        "\n",
        "    heappush(open_list, (f_total[start], start))\n",
        "    print('Open List: %-75s Closed List: %-75s' %(open_list, closed_list))\n",
        "\n",
        "    parent = {}\n",
        "\n",
        "    while open_list:\n",
        "        current = heappop(open_list)[1]\n",
        "\n",
        "        if isGoalState(current, goal):\n",
        "            path = []\n",
        "            while current in parent:\n",
        "                path.append(current)\n",
        "                current = parent[current]\n",
        "            path.append(start)\n",
        "            return path[::-1], g[goal]\n",
        "\n",
        "        for neighbor, cost in graph[current].items():\n",
        "            temp_g = g[current] + cost\n",
        "\n",
        "            if temp_g < g[neighbor]:\n",
        "                parent[neighbor] = current\n",
        "                g[neighbor] = temp_g\n",
        "                f_total[neighbor] = g[neighbor] + h(neighbor, goal)\n",
        "                heappush(open_list, (f_total[neighbor], neighbor))\n",
        "\n",
        "        closed_list.append(current)\n",
        "        print('Open List: %-75s Closed List: %-75s' %(open_list, closed_list))\n",
        "\n",
        "    return None, float('inf')\n"
      ]
    },
    {
      "cell_type": "markdown",
      "metadata": {
        "id": "LEV2XHccF7sP"
      },
      "source": [
        "### DYNAMIC INPUT"
      ]
    },
    {
      "cell_type": "markdown",
      "metadata": {
        "id": "CylYRo_DF7sP"
      },
      "source": [
        "IMPORTANT : Dynamic Input must be got in this section. Display the possible states to choose from:\n",
        "This is applicable for all the relevent problems as mentioned in the question."
      ]
    },
    {
      "cell_type": "code",
      "execution_count": 7,
      "metadata": {
        "colab": {
          "base_uri": "https://localhost:8080/"
        },
        "id": "Q5t1Lc-wF7sP",
        "outputId": "3f4d8ff2-ac9a-46e8-e792-a5b65ab88713"
      },
      "outputs": [
        {
          "name": "stdout",
          "output_type": "stream",
          "text": [
            "Please enter start node (A-H) : C\n",
            "Please enter end node (A-H) : E\n"
          ]
        }
      ],
      "source": [
        "#Code Block : Function & call to get inputs (start/end state)\n",
        "def getInput():\n",
        "    \"\"\"\n",
        "    Function to dynamically get the values for start and end node\n",
        "\n",
        "    This function returns the start and end node input by the user\n",
        "    \"\"\"\n",
        "\n",
        "    start = input(\"Please enter start node (A-H) : \").capitalize()\n",
        "    end = input(\"Please enter end node (A-H) : \").capitalize()\n",
        "    start = start.strip()[0]\n",
        "    end = end.strip()[0]\n",
        "    return start, end\n",
        "\n",
        "start, end = getInput()"
      ]
    },
    {
      "cell_type": "markdown",
      "metadata": {
        "id": "xsfOP81lF7sP"
      },
      "source": [
        "### 4.\tCalling the search algorithms\n",
        "(For bidirectional search in below sections first part can be used as per Hint provided. Under second section other combinations as per Hint or your choice of 2 algorithms can be called .As an analyst suggest suitable approximation in the comparitive analysis section)"
      ]
    },
    {
      "cell_type": "code",
      "execution_count": 8,
      "metadata": {
        "colab": {
          "base_uri": "https://localhost:8080/"
        },
        "id": "Og5zI9thF7sP",
        "outputId": "999cec62-9f2b-4cca-c12d-b87e79446940"
      },
      "outputs": [
        {
          "name": "stdout",
          "output_type": "stream",
          "text": [
            "Start Node:  C , End Node:  E\n",
            "Current Path: ['C']                                    Visited: ['C']                                   \n",
            "Next Node: A\n",
            "Current Path: ['C', 'A']                               Visited: ['C', 'A']                              \n",
            "Next Node: B\n",
            "Current Path: ['C', 'A', 'B']                          Visited: ['C', 'A', 'B']                         \n",
            "Next Node: A (Already Visited)\n",
            "Next Node: D\n",
            "Current Path: ['C', 'A', 'B', 'D']                     Visited: ['C', 'A', 'B', 'D']                    \n",
            "Next Node: A (Already Visited)\n",
            "Next Node: B (Already Visited)\n",
            "Next Node: E\n",
            "Current Path: ['C', 'A', 'B', 'D', 'E']                Visited: ['C', 'A', 'B', 'D', 'E']               \n",
            "\n",
            "RESULT:\n",
            "DFS Path: C -> A -> B -> D -> E\n",
            "Total Path Cost for DFS:  39\n",
            "Minimum Connections to keep the network up and running from C to E is 4\n"
          ]
        }
      ],
      "source": [
        "#Invoke algorithm 1 (Should Print the solution, path, cost etc., (As mentioned in the problem))\n",
        "#Variables for DFS\n",
        "visitedNodes = []\n",
        "dfsPath = []\n",
        "found_path = None\n",
        "dfsPathCost = 0\n",
        "node_count = 0\n",
        "\n",
        "if (ord(start) >= 65 and ord(start) <= 72 and ord(end) >= 65 and ord(end) <= 72):\n",
        "    searchDFS(start, end)\n",
        "\n",
        "    print(\"\\nRESULT:\")\n",
        "    print(\"DFS Path:\", \" -> \".join(dfsPath))\n",
        "    for i in range(0, len(dfsPath) - 1):\n",
        "        v = dfsPath[i]\n",
        "        v_neighbors = graph[v]\n",
        "        dfsPathCost = dfsPathCost + v_neighbors[dfsPath[i + 1]]\n",
        "    print('Total Path Cost for DFS: ', dfsPathCost)\n",
        "    print(\"Minimum Connections to keep the network up and running from\", start, \"to\", end, \"is\", len(dfsPath)-1)\n",
        "else:\n",
        "     print(\"Please enter valid input!!!\")"
      ]
    },
    {
      "cell_type": "code",
      "execution_count": 9,
      "metadata": {
        "colab": {
          "base_uri": "https://localhost:8080/"
        },
        "id": "u3MJeA6eF7sP",
        "outputId": "cdb60730-7811-47a3-815b-51a21430a45c"
      },
      "outputs": [
        {
          "name": "stdout",
          "output_type": "stream",
          "text": [
            "Start Node:  C , End Node:  E\n",
            "Open List: [(42.75, 'C')]                                                              Closed List: []                                                                         \n",
            "Open List: [(43.5, 'G'), (51.667, 'A')]                                                Closed List: ['C']                                                                      \n",
            "Open List: [(51.667, 'A'), (76.833, 'H')]                                              Closed List: ['C', 'G']                                                                 \n",
            "Open List: [(29, 'D'), (76.833, 'H'), (76.667, 'B')]                                   Closed List: ['C', 'G', 'A']                                                            \n",
            "Open List: [(29, 'E'), (75.833, 'H'), (76.667, 'B'), (89.167, 'F'), (76.833, 'H')]     Closed List: ['C', 'G', 'A', 'D']                                                       \n",
            "\n",
            "RESULT:\n",
            "A* Path: C -> A -> D -> E\n",
            "Total Path Cost for A*: 29\n",
            "Minimum Connections to keep the network up and running from C to E is 3\n"
          ]
        }
      ],
      "source": [
        "#Invoke algorithm 2 (Should Print the solution, path, cost etc., (As mentioned in the problem))\n",
        "if (ord(start) >= 65 and ord(start) <= 72 and ord(end) >= 65 and ord(end) <= 72):\n",
        "    aStarPath, aStarPathCost = searchAStar(graph, start, end, heuristic)\n",
        "    print(\"\\nRESULT:\")\n",
        "    print(\"A* Path:\", \" -> \".join(aStarPath))\n",
        "    print(\"Total Path Cost for A*:\", aStarPathCost)\n",
        "    print(\"Minimum Connections to keep the network up and running from\", start, \"to\", end, \"is\", len(aStarPath)-1)\n",
        "else:\n",
        "    print(\"Please enter valid input!!!\")"
      ]
    },
    {
      "cell_type": "markdown",
      "metadata": {
        "id": "TOU3Rem6F7sQ"
      },
      "source": [
        "### 5.\tComparitive Analysis"
      ]
    },
    {
      "cell_type": "code",
      "execution_count": 10,
      "metadata": {
        "colab": {
          "base_uri": "https://localhost:8080/"
        },
        "id": "HG6fWwiIF7sQ",
        "outputId": "c6360b5d-d722-41da-ba55-68cbbb43b033"
      },
      "outputs": [
        {
          "name": "stdout",
          "output_type": "stream",
          "text": [
            "Time complexity for DFS: O( 4  +  5 )\n",
            "Space complexity for DFS: O( 4  +  5 )\n"
          ]
        }
      ],
      "source": [
        "#Code Block : Print the Time & Space complexity of algorithm 1\n",
        "\n",
        "# Total number of nodes in the tree generated by DFS in this instance\n",
        "nodeCount = node_count\n",
        "\n",
        "# Total number of edges in the tree generated by DFS in this instance\n",
        "edgeCount = nodeCount - 1\n",
        "\n",
        "print('Time complexity for DFS: O(', edgeCount, ' + ', nodeCount,')')\n",
        "print('Space complexity for DFS: O(', edgeCount, ' + ', nodeCount,')')"
      ]
    },
    {
      "cell_type": "code",
      "execution_count": 11,
      "metadata": {
        "colab": {
          "base_uri": "https://localhost:8080/"
        },
        "id": "xMButLKCF7sQ",
        "outputId": "26dbb921-b9ad-4017-9b7d-509120863214"
      },
      "outputs": [
        {
          "name": "stdout",
          "output_type": "stream",
          "text": [
            "Time Complexity for A*: O( 2.75  ^ 3 )\n",
            "Space Complexity for A*: O( 2.75  ^ 3 )\n"
          ]
        }
      ],
      "source": [
        "#Code Block : Print the Time & Space complexity of algorithm 2\n",
        "\n",
        "# Average number of transmission lines per server\n",
        "avgBranchFact = 2.75\n",
        "\n",
        "# Depth of the tree created by A* in this instance\n",
        "depth = len(aStarPath) - 1\n",
        "\n",
        "print(\"Time Complexity for A*: O(\", avgBranchFact, \" ^\", depth,\")\")\n",
        "print(\"Space Complexity for A*: O(\", avgBranchFact, \" ^\", depth,\")\")"
      ]
    },
    {
      "cell_type": "markdown",
      "metadata": {
        "id": "y2nXwAlsF7sQ"
      },
      "source": [
        "### 6.\tProvide your comparitive analysis or findings in no more than 3 lines in below section"
      ]
    },
    {
      "cell_type": "markdown",
      "metadata": {
        "id": "si483-zoF7sQ"
      },
      "source": [
        "#### Comparison:  \n",
        "1. Between the two algorithms, A* returns the path with lower cost as compared to DFS.\n",
        "2. A* always gives the minimum number of connections to keep the network up and running whereas DFS does not alsways provide the optimal number of connections.\n",
        "3. Time Complexity and Space Complexity for DFS are of linear order, whereas for A* they are exponential in order with respect to the depth.\n"
      ]
    }
  ],
  "metadata": {
    "colab": {
      "provenance": []
    },
    "kernelspec": {
      "display_name": "Python 3",
      "language": "python",
      "name": "python3"
    },
    "language_info": {
      "codemirror_mode": {
        "name": "ipython",
        "version": 3
      },
      "file_extension": ".py",
      "mimetype": "text/x-python",
      "name": "python",
      "nbconvert_exporter": "python",
      "pygments_lexer": "ipython3",
      "version": "3.8.5"
    }
  },
  "nbformat": 4,
  "nbformat_minor": 0
}
